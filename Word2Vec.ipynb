{
 "cells": [
  {
   "cell_type": "markdown",
   "metadata": {},
   "source": [
    "## 1. Import Modules"
   ]
  },
  {
   "cell_type": "code",
   "execution_count": 5,
   "metadata": {
    "scrolled": true
   },
   "outputs": [],
   "source": [
    "import pandas as pd\n",
    "import numpy as np\n",
    "import math\n",
    "import sklearn\n",
    "import matplotlib.pyplot as plt\n",
    "import sqlalchemy\n",
    "import pyodbc\n",
    "import urllib\n",
    "import time\n",
    "import warnings\n",
    "warnings.filterwarnings('ignore')\n",
    "import seaborn as sns\n",
    "import gensim\n",
    "import random\n",
    "\n",
    "\n",
    "from gensim.models import Word2Vec, LdaModel, Doc2Vec\n",
    "from gensim.models.doc2vec import TaggedDocument\n",
    "from tqdm import * \n",
    "\n",
    "from sklearn.cluster import KMeans, DBSCAN\n",
    "from sklearn.metrics.pairwise import cosine_similarity\n",
    "from sklearn.decomposition import PCA\n",
    "from sklearn.manifold import TSNE # visualize high-dimensional data in a low dimension (usually 2\n",
    "\n",
    "import matplotlib.pyplot as plt\n",
    "import matplotlib.cm as cm\n",
    "\n"
   ]
  },
  {
   "cell_type": "markdown",
   "metadata": {},
   "source": [
    "## 2. Define Functions"
   ]
  },
  {
   "cell_type": "code",
   "execution_count": 6,
   "metadata": {},
   "outputs": [],
   "source": [
    "### Get data from sql\n",
    "def GetDataFromSQL(SQL,SQLServer):\n",
    "    conn , DF = None, None\n",
    "    try:\n",
    "        conn = pyodbc.connect(SQLServer, autocommit=True)\n",
    "        DF = pd.io.sql.read_sql(SQL, conn)\n",
    "    except Exception as ex:\n",
    "        print(ex, \"\\n\")\n",
    "    finally:\n",
    "        if conn is not None:\n",
    "            conn.close()\n",
    "    return DF"
   ]
  },
  {
   "cell_type": "code",
   "execution_count": 7,
   "metadata": {},
   "outputs": [],
   "source": [
    "# define a class of migration functions\n",
    "class Customer_Branch_Migration:\n",
    "    \n",
    "    def __init__(self, df):\n",
    "        self.df = df\n",
    "        self.from_bcn = df[df['Branch_Label'] == 'AM']['BCN'].unique()\n",
    "        self.to_bcn = df[df['Branch_Label'] == 'AS']['BCN'].unique()\n",
    "    \n",
    "    def data_transform(self):\n",
    "        # remove spaces\n",
    "        self.df.CUSTNAME = self.df.CUSTNAME.apply(lambda x: x.strip())\n",
    "        self.df.PRODUCTDESC1 = self.df.PRODUCTDESC1.apply(lambda x: x.strip())\n",
    "        \n",
    "        # create numeric id for customer + product\n",
    "        self.df.BCN = self.df.BCN.astype('category')\n",
    "        self.df['customer_id'] = self.df.BCN.cat.codes\n",
    "\n",
    "        self.df.PRODUCTDESC1 = self.df.PRODUCTDESC1.astype('category')\n",
    "        self.df['product_id'] = self.df.PRODUCTDESC1.cat.codes\n",
    "        \n",
    "    def customer2vec(self, embedding_size = 50, neighborhood_size = 100):\n",
    "        n_customer = len(self.df.customer_id.unique())\n",
    "        self.prod_list = [list(self.df.PRODUCTDESC1[self.df.customer_id == i]) \n",
    "                          for i in tqdm(range(n_customer))]\n",
    "        \n",
    "        # fit word2vec model\n",
    "        self.model = Word2Vec(self.prod_list, \n",
    "                              vector_size = embedding_size,                               \n",
    "                              window = neighborhood_size,\n",
    "                              min_count = 1,\n",
    "                              sg = 1,\n",
    "                              hs = 1, \n",
    "                              negative = 5,\n",
    "                              workers = 4)\n",
    "        \n",
    "        # get customer embeddings by averaging product representations\n",
    "        self.customer_embeddings, self.bcn = [], []\n",
    "\n",
    "        for i in range(n_customer):\n",
    "            self.bcn.append(self.df.BCN[self.df.customer_id == i].iloc[0])\n",
    "            self.customer_embeddings.append(self.model.wv[self.prod_list[i]].mean(axis = 0))\n",
    "        \n",
    "        self.customer_embeddings = pd.DataFrame(self.customer_embeddings, index = self.bcn)  \n",
    "\n",
    "        self.customer_similarity_from = cosine_similarity(self.customer_embeddings.loc[self.from_bcn].values)\n",
    "        self.customer_similarity_to = cosine_similarity(self.customer_embeddings.loc[self.to_bcn].values)\n",
    "        \n",
    "        self.customer_similarity_from = pd.DataFrame(self.customer_similarity_from, index = self.from_bcn, columns = self.from_bcn)\n",
    "        self.customer_similarity_to = pd.DataFrame(self.customer_similarity_to, index = self.to_bcn, columns = self.to_bcn)\n",
    "        \n",
    "        \n",
    "        \n",
    "        return self.customer_embeddings\n",
    "    \n",
    "    def similarity_between_branches(self, embed_A, embed_B):\n",
    "\n",
    "        # calculate similarities between current branch and another branch\n",
    "        similarity_with_another_branch = cosine_similarity(embed_A.values, embed_B.values)\n",
    "  \n",
    "        similarity_with_another_branch_mean = similarity_with_another_branch.mean(axis = 1, keepdims = True)\n",
    "        similarity_with_another_branch_mean = pd.DataFrame(similarity_with_another_branch_mean, \n",
    "                                                           index = embed_A.index,\n",
    "                                                           columns = ['mean_similarity_with_another_branch'])\n",
    "        similarity_with_another_branch_mean.sort_values(by = 'mean_similarity_with_another_branch', \n",
    "                                                        ascending = False, \n",
    "                                                        inplace = True)\n",
    "        return similarity_with_another_branch_mean\n",
    "    \n",
    "    def most_similar_customers(self, bcn, topk, branch = 'from',in_branch = True):  \n",
    "        if text.lower(branch) == 'from':\n",
    "            target = self.customer_similarity_from\n",
    "            compare_to = self.customer_similarity_to\n",
    "            bcn_list = self.from_bcn\n",
    "        elif text.lower(branch) == 'to':\n",
    "            target = self.customer_similarity_to\n",
    "            compare_to = self.customer_similarity_from\n",
    "            bcn_list = self.to_bcn\n",
    "        else:\n",
    "            raise Exception(\"Choose input: 'from'/'to'\")\n",
    "            \n",
    "        # identify similar customers within the same branch\n",
    "        if in_branch: \n",
    "            bcn_similarity = target[bcn].values # similarity with other customers in current branch\n",
    "            idx = bcn_similarity.argsort()[-(1 + topk):-1]\n",
    "            return [(bcn_list[i], bcn_similarity[i]) for i in idx[::-1]]\n",
    "        else:\n",
    "        # identify similar customers from another branch\n",
    "            bcn_embedding = self.customer_embeddings.loc[bcn].values\n",
    "            bcn_embedding = bcn_embedding[None, :]\n",
    "            bcn_similarity_with_another_branch = cosine_similarity(bcn_embedding, \n",
    "                                                                   compare_to.values)\n",
    "            idx = bcn_similarity_with_another_branch.argsort()[0][-topk:]\n",
    "        return [(compare_to.index[i], bcn_similarity_with_another_branch[0][i]) \n",
    "                for i in idx[::-1]]   \n",
    "    \n",
    "#    def product_recommendation(self, bcn, topk):\n",
    "#        # personalized recommendation for customers within current branch\n",
    "#        cust_prod_seq = self.prod_list[self.bcn.index(bcn)]\n",
    "#        cust_invoicedt = list(self.df.INVOICEDT[self.df.BCN == bcn])\n",
    "#\n",
    "#        max_t = max(cust_invoicedt)\n",
    "#        days_back = [(max_t - date).days for date in cust_invoicedt]\n",
    "#\n",
    "#        rec = []\n",
    "#\n",
    "#        for prod, daysback in zip(cust_prod_seq, days_back):\n",
    "#\n",
    "#            ms = self.model.wv.most_similar(positive = prod, topn = 10)\n",
    "#            decay = 0.95**daysback\n",
    "#            ms = [(i[0], decay*i[1]) for i in ms]\n",
    "#\n",
    "#            rec.extend(ms)\n",
    "#\n",
    "#        rec = [(i[0], i[1]) for i in rec if i[0] not in set(cust_prod_seq)] \n",
    "#        rec.sort(key = lambda x: -x[1])\n",
    "#        \n",
    "#        return rec[:topk]       "
   ]
  },
  {
   "cell_type": "markdown",
   "metadata": {},
   "source": [
    "## 3. Get Data from SQL "
   ]
  },
  {
   "cell_type": "markdown",
   "metadata": {},
   "source": [
    "## Change value below:"
   ]
  },
  {
   "cell_type": "code",
   "execution_count": 8,
   "metadata": {},
   "outputs": [],
   "source": [
    "#AM_table = 'dev_upload.dbo.diamond_minder_Meriplex_EU_non_msft'\n",
    "#AS_table = 'dev_upload.dbo.diamond_miner_Meriplex_EU_msft'\n",
    "\n",
    "\n",
    "AM_table = 'dev_upload.dbo.diamond_miner_All_EU'\n",
    "AS_table = 'dev_upload.dbo.diamond_miner_Meriplex_EU'\n",
    "\n",
    "look_back_months = '12'"
   ]
  },
  {
   "cell_type": "code",
   "execution_count": 14,
   "metadata": {},
   "outputs": [],
   "source": [
    "data_query = '''\n",
    "set nocount on\n",
    "\n",
    "drop table if EXISTS #from_purchases\n",
    "select distinct a.NEW_DUNSNBR_ENDUSER BCN, eu.BUSINESSNAME CUSTNAME, pr.PRODUCTKEY, pr.PRODUCTDESC1, a.INVOICEDT \n",
    "into #from_purchases\n",
    "FROM BIC_DW.dbo.HI_INVOICELINE a\n",
    "join BIC_DW.dbo.CS_CUSTOMER b on a.BRANCHCUSTOMERNBR = b.BRANCHCUSTOMERNBR and a.COMPANYCD = b.COMPANYCD\n",
    "join bic_dw.dbo.PR_PRODUCT pr on a.PRODUCTKEY = pr.PRODUCTKEY and a.COMPANYCD = pr.COMPANYCD\n",
    "JOIN py_input_table d on d.companycd = a.COMPANYCD and d.NEW_DUNSNBR_ENDUSER = a.NEW_DUNSNBR_ENDUSER  and d.Source = 'IMP'\n",
    "left join bic_dw.dbo.DIMENDUSER_GLOBAL eu on eu.DUNS_NBR = a.DUNS_NBR\n",
    "where a.INVOICEDT >= dateadd(year,-1,getdate())\n",
    "and b.REMOVEDDT is null and b.INCARNNBR = 1\n",
    "and pr.REMOVEDDT IS NULL and pr.INCARNNBR = 1\n",
    "\n",
    "\n",
    "drop TABLE if exists #cmp_purchases\n",
    "select c.DUNS_NBR as BCN, c.company_name as CUSTNAME, o.source_key as PRODUCTKEY , o.offer_name as PRODUCTDESC1, fs.report_date as INVOICEDT\n",
    "into #cmp_purchases\n",
    "from globus.dbo.fact_sales fs \n",
    "join globus.dbo.offer o on o.offer_id = fs.offer_id\n",
    "join globus.[dbo].[company_Duns] c on c.company_id = fs.customer_id and c.hierarhy_level = '3'\n",
    "JOIN py_input_table d on d.NEW_DUNSNBR_ENDUSER = c.DUNS_NBR and d.source = 'CMP'\n",
    "WHERE fs.marketplace_id = '2'\n",
    "and fs.report_date >= dateadd(year,-1,getdate())\n",
    "and c.duns_nbr <> '000000000'\n",
    "group by c.DUNS_NBR, c.company_name, o.source_key , o.offer_name , fs.report_date\n",
    "\n",
    "\n",
    "Drop table if exists #purchases\n",
    "SELECT * --results \n",
    "INTO #purchases\n",
    "FROM #from_purchases\n",
    "union \n",
    "select *\n",
    "from #cmp_purchases\n",
    "\n",
    "-- remove duplicated SKUs with each customer on the same day\n",
    ";WITH CTE AS\n",
    "(\n",
    "SELECT *, ROW_NUMBER() OVER (PARTITION BY BCN\t, PRODUCTKEY, INVOICEDT ORDER BY BCN, PRODUCTKEY, INVOICEDT) AS RN\n",
    "FROM #purchases\n",
    ")\n",
    "\n",
    "DELETE FROM CTE WHERE RN <> 1;\n",
    "\n",
    "-- remove products with unknown description\n",
    "DELETE FROM #purchases\n",
    "where productdesc1 like '%unknown%'\n",
    "\n",
    "-- ensure product-productdesc is 1-to-1 mapping (different products can have the same productdesc) \n",
    "drop table IF EXISTS #prod_proddesc\n",
    "SELECT distinct PRODUCTDESC1, PRODUCTKEY\n",
    "INTO #prod_proddesc\n",
    "from #purchases\n",
    "\n",
    ";WITH CTE AS\n",
    "(\n",
    "SELECT *, ROW_NUMBER() OVER (PARTITION BY PRODUCTDESC1\n",
    "ORDER BY PRODUCTDESC1) AS RN\n",
    "FROM #prod_proddesc\n",
    ")\n",
    "DELETE FROM CTE WHERE RN <> 1;\n",
    "\n",
    ";WITH CTE AS\n",
    "(\n",
    "SELECT *, ROW_NUMBER() OVER (PARTITION BY PRODUCTKEY\n",
    "ORDER BY PRODUCTKEY) AS RN\n",
    "FROM #prod_proddesc\n",
    ")\n",
    "DELETE FROM CTE WHERE RN <> 1;\n",
    "\n",
    "\n",
    "\n",
    "-- final table\n",
    "drop table if EXISTS #purchases_2\n",
    "SELECT a.*\n",
    "into #purchases_2 \n",
    "from #purchases a\n",
    "join #prod_proddesc b on a.productkey = b.productkey AND a.PRODUCTDESC1 = b.PRODUCTDESC1\n",
    "--JOIN #cust_custname c on a.bcn = c.bcn and a.custname = c.custname\n",
    "\n",
    "\n",
    "drop table if EXISTS #from_large_purchase\n",
    "SELECT BCN, CUSTNAME, count(distinct PRODUCTKEY) sku_counts\n",
    "into #from_large_purchase\n",
    "from #purchases_2\n",
    "group by BCN, CUSTNAME\n",
    "having count(distinct productkey) >= 5\n",
    "\n",
    "\n",
    "SELECT a.* \n",
    "from #purchases_2 a\n",
    "join #from_large_purchase b on a.BCN = b.BCN\n",
    "ORDER BY BCN, INVOICEDT\n",
    "\n",
    "'''"
   ]
  },
  {
   "cell_type": "code",
   "execution_count": 15,
   "metadata": {},
   "outputs": [],
   "source": [
    "AM_query = data_query.replace(\"py_input_table\",AM_table)\n",
    "AS_query = data_query.replace(\"py_input_table\",AS_table)"
   ]
  },
  {
   "cell_type": "code",
   "execution_count": 16,
   "metadata": {},
   "outputs": [],
   "source": [
    "rev_query = '''\n",
    "select b.NEW_DUNSNBR_ENDUSER BCN, sum(i.EXTENDEDSALES) rev\n",
    "from BIC_REFERENCE.dbo.HI_INVOICELINE_NORM i\n",
    "join py_input_table b on b.NEW_DUNSNBR_ENDUSER= i.DUNS_NBR\n",
    "where i.INVOICEDT BETWEEN DATEADD(month, -'''+look_back_months+''', GETDATE()) and GETDATE()\n",
    "group by b.NEW_DUNSNBR_ENDUSER\n",
    "'''"
   ]
  },
  {
   "cell_type": "code",
   "execution_count": 17,
   "metadata": {},
   "outputs": [],
   "source": [
    "AS_rev = rev_query.replace(\"py_input_table\",AS_table)"
   ]
  },
  {
   "cell_type": "code",
   "execution_count": 18,
   "metadata": {},
   "outputs": [],
   "source": [
    "#filtering = ' ORDER BY BCN, INVOICEDT'\n",
    "df_am = GetDataFromSQL(AM_query, \"DSN=1056d\")"
   ]
  },
  {
   "cell_type": "code",
   "execution_count": 19,
   "metadata": {},
   "outputs": [],
   "source": [
    "df_as = GetDataFromSQL(AS_query, \"DSN=1056d\")"
   ]
  },
  {
   "cell_type": "code",
   "execution_count": 20,
   "metadata": {},
   "outputs": [],
   "source": [
    "df_as_rev = GetDataFromSQL(AS_rev, \"DSN=1056d\")"
   ]
  },
  {
   "cell_type": "code",
   "execution_count": 21,
   "metadata": {},
   "outputs": [],
   "source": [
    "df_am['Branch_Label'] = 'AM'\n",
    "df_as['Branch_Label'] = 'AS' \n",
    "df_full = pd.concat([df_am, df_as]).dropna().reset_index(drop = True)"
   ]
  },
  {
   "cell_type": "markdown",
   "metadata": {
    "tags": []
   },
   "source": [
    "## 4. Reseller Embeddings\n",
    "\n",
    "Apply Word2Vec to resellers' product purchasing sequence to generate numerical vectors for each reseller. \n",
    "- AM: **am_cust_embeds**\n",
    "- AS: **as_cust_embeds**"
   ]
  },
  {
   "cell_type": "code",
   "execution_count": 22,
   "metadata": {},
   "outputs": [],
   "source": [
    "full = Customer_Branch_Migration(df_full)"
   ]
  },
  {
   "cell_type": "code",
   "execution_count": 23,
   "metadata": {},
   "outputs": [],
   "source": [
    "full.data_transform()"
   ]
  },
  {
   "cell_type": "code",
   "execution_count": 24,
   "metadata": {},
   "outputs": [
    {
     "name": "stderr",
     "output_type": "stream",
     "text": [
      "100%|██████████| 30099/30099 [00:27<00:00, 1076.37it/s]\n"
     ]
    }
   ],
   "source": [
    "full_embed = full.customer2vec()"
   ]
  },
  {
   "cell_type": "code",
   "execution_count": 25,
   "metadata": {},
   "outputs": [],
   "source": [
    "AM_embed = full_embed.loc[df_full[df_full['Branch_Label'] == 'AM']['BCN'].unique()]\n",
    "AS_embed = full_embed.loc[df_full[df_full['Branch_Label'] == 'AS']['BCN'].unique()]"
   ]
  },
  {
   "cell_type": "markdown",
   "metadata": {},
   "source": [
    "## 5. Identify AM Resellers Most Similar to AS Resellers\n",
    "\n",
    "Two steps:\n",
    "- Partition AS resellers into two groups: **GOOD** and **BAD**. Good AS resellers better represent resellers' characteristics in AS. They will be used to compare similarity with AM resellers.\n",
    "- Measure the similarity between AM resellers and **GOOD** AS resellers. AM resellers with high similarities are considered as migration candidates."
   ]
  },
  {
   "cell_type": "markdown",
   "metadata": {},
   "source": [
    "### 5.1. Identify Good and Bad AS customers\n",
    "For resellers in AS who are least similar to AM, they are considered as good AS resellers."
   ]
  },
  {
   "cell_type": "code",
   "execution_count": 26,
   "metadata": {},
   "outputs": [],
   "source": [
    "# compare individual AS resellers to AM branch\n",
    "as_to_am_sim = full.similarity_between_branches(AS_embed, AM_embed)"
   ]
  },
  {
   "cell_type": "code",
   "execution_count": 27,
   "metadata": {},
   "outputs": [
    {
     "data": {
      "text/plain": [
       "(391, 1)"
      ]
     },
     "execution_count": 27,
     "metadata": {},
     "output_type": "execute_result"
    }
   ],
   "source": [
    "as_to_am_sim.shape"
   ]
  },
  {
   "cell_type": "code",
   "execution_count": 28,
   "metadata": {},
   "outputs": [
    {
     "data": {
      "text/plain": [
       "0.3406428098678589"
      ]
     },
     "execution_count": 28,
     "metadata": {},
     "output_type": "execute_result"
    }
   ],
   "source": [
    "# use median as threshold separating good and bad AS resellers\n",
    "thresh = as_to_am_sim.mean_similarity_with_another_branch.median()\n",
    "thresh"
   ]
  },
  {
   "cell_type": "code",
   "execution_count": 29,
   "metadata": {},
   "outputs": [
    {
     "data": {
      "text/plain": [
       "(29979, 50)"
      ]
     },
     "execution_count": 29,
     "metadata": {},
     "output_type": "execute_result"
    }
   ],
   "source": [
    "AM_embed.shape"
   ]
  },
  {
   "cell_type": "code",
   "execution_count": 30,
   "metadata": {},
   "outputs": [],
   "source": [
    "# customers who are less likely to migrate to AM\n",
    "# these are GOOD customers in AS\n",
    "good_AS_cust_embed = AS_embed[as_to_am_sim.mean_similarity_with_another_branch <= thresh] \n",
    "bad_AS_cust_embed = AS_embed[as_to_am_sim.mean_similarity_with_another_branch > thresh] "
   ]
  },
  {
   "cell_type": "markdown",
   "metadata": {},
   "source": [
    "### 5.2. Identify Similarity Between AM Resellers and Good AS Resellers\n",
    "For AM resellers who are very similar to good AS resellers, they will be top candidates for migration. Threshold is set at top 20%. "
   ]
  },
  {
   "cell_type": "code",
   "execution_count": 31,
   "metadata": {},
   "outputs": [],
   "source": [
    "# similarities between AM and good AS resellers\n",
    "am_to_as_good_similarity = full.similarity_between_branches(AM_embed, good_AS_cust_embed)"
   ]
  },
  {
   "cell_type": "code",
   "execution_count": 32,
   "metadata": {},
   "outputs": [],
   "source": [
    "am_to_as_good_similarity.index = am_to_as_good_similarity.index.set_names(['BCN'])"
   ]
  },
  {
   "cell_type": "code",
   "execution_count": 33,
   "metadata": {},
   "outputs": [],
   "source": [
    "am_to_as_good_similarity.reset_index(inplace = True)"
   ]
  },
  {
   "cell_type": "code",
   "execution_count": 34,
   "metadata": {},
   "outputs": [
    {
     "data": {
      "text/html": [
       "<div>\n",
       "<style scoped>\n",
       "    .dataframe tbody tr th:only-of-type {\n",
       "        vertical-align: middle;\n",
       "    }\n",
       "\n",
       "    .dataframe tbody tr th {\n",
       "        vertical-align: top;\n",
       "    }\n",
       "\n",
       "    .dataframe thead th {\n",
       "        text-align: right;\n",
       "    }\n",
       "</style>\n",
       "<table border=\"1\" class=\"dataframe\">\n",
       "  <thead>\n",
       "    <tr style=\"text-align: right;\">\n",
       "      <th></th>\n",
       "      <th>BCN</th>\n",
       "      <th>mean_similarity_with_another_branch</th>\n",
       "    </tr>\n",
       "  </thead>\n",
       "  <tbody>\n",
       "    <tr>\n",
       "      <th>0</th>\n",
       "      <td>010726883</td>\n",
       "      <td>0.500938</td>\n",
       "    </tr>\n",
       "    <tr>\n",
       "      <th>1</th>\n",
       "      <td>007436605</td>\n",
       "      <td>0.500634</td>\n",
       "    </tr>\n",
       "    <tr>\n",
       "      <th>2</th>\n",
       "      <td>097348114</td>\n",
       "      <td>0.499478</td>\n",
       "    </tr>\n",
       "    <tr>\n",
       "      <th>3</th>\n",
       "      <td>060273687</td>\n",
       "      <td>0.498949</td>\n",
       "    </tr>\n",
       "    <tr>\n",
       "      <th>4</th>\n",
       "      <td>066780667</td>\n",
       "      <td>0.498155</td>\n",
       "    </tr>\n",
       "    <tr>\n",
       "      <th>...</th>\n",
       "      <td>...</td>\n",
       "      <td>...</td>\n",
       "    </tr>\n",
       "    <tr>\n",
       "      <th>29974</th>\n",
       "      <td>928327063</td>\n",
       "      <td>-0.112448</td>\n",
       "    </tr>\n",
       "    <tr>\n",
       "      <th>29975</th>\n",
       "      <td>079417891</td>\n",
       "      <td>-0.115503</td>\n",
       "    </tr>\n",
       "    <tr>\n",
       "      <th>29976</th>\n",
       "      <td>176916583</td>\n",
       "      <td>-0.121083</td>\n",
       "    </tr>\n",
       "    <tr>\n",
       "      <th>29977</th>\n",
       "      <td>956871495</td>\n",
       "      <td>-0.127383</td>\n",
       "    </tr>\n",
       "    <tr>\n",
       "      <th>29978</th>\n",
       "      <td>079339259</td>\n",
       "      <td>-0.175769</td>\n",
       "    </tr>\n",
       "  </tbody>\n",
       "</table>\n",
       "<p>29979 rows × 2 columns</p>\n",
       "</div>"
      ],
      "text/plain": [
       "             BCN  mean_similarity_with_another_branch\n",
       "0      010726883                             0.500938\n",
       "1      007436605                             0.500634\n",
       "2      097348114                             0.499478\n",
       "3      060273687                             0.498949\n",
       "4      066780667                             0.498155\n",
       "...          ...                                  ...\n",
       "29974  928327063                            -0.112448\n",
       "29975  079417891                            -0.115503\n",
       "29976  176916583                            -0.121083\n",
       "29977  956871495                            -0.127383\n",
       "29978  079339259                            -0.175769\n",
       "\n",
       "[29979 rows x 2 columns]"
      ]
     },
     "execution_count": 34,
     "metadata": {},
     "output_type": "execute_result"
    }
   ],
   "source": [
    "am_to_as_good_similarity"
   ]
  },
  {
   "cell_type": "code",
   "execution_count": 35,
   "metadata": {
    "scrolled": true
   },
   "outputs": [],
   "source": [
    "am_to_as_good_similarity.mean_similarity_with_another_branch = round(am_to_as_good_similarity.mean_similarity_with_another_branch, 4)"
   ]
  },
  {
   "cell_type": "code",
   "execution_count": 36,
   "metadata": {},
   "outputs": [],
   "source": [
    "am_to_as_good_candidates = am_to_as_good_similarity[am_to_as_good_similarity.mean_similarity_with_another_branch >= am_to_as_good_similarity.mean_similarity_with_another_branch.quantile(0.7)]"
   ]
  },
  {
   "cell_type": "markdown",
   "metadata": {},
   "source": [
    "### 6. Output"
   ]
  },
  {
   "cell_type": "code",
   "execution_count": 41,
   "metadata": {},
   "outputs": [],
   "source": [
    "# output csv file\n",
    "file_name = 'M_EU_similarity_Heartland.csv'\n",
    "am_to_as_good_candidates.to_csv(file_name, index = False)"
   ]
  },
  {
   "cell_type": "code",
   "execution_count": 38,
   "metadata": {},
   "outputs": [],
   "source": [
    "from gbi_utils import connector"
   ]
  },
  {
   "cell_type": "code",
   "execution_count": 39,
   "metadata": {},
   "outputs": [],
   "source": [
    "#connector.upload(am_to_as_similarity, sql_table_name=file_name, server= 'USCHWSQL1056D', database= 'DEV_UPLOAD', schema_name='DBO')"
   ]
  },
  {
   "cell_type": "code",
   "execution_count": 40,
   "metadata": {},
   "outputs": [
    {
     "data": {
      "text/html": [
       "<div>\n",
       "<style scoped>\n",
       "    .dataframe tbody tr th:only-of-type {\n",
       "        vertical-align: middle;\n",
       "    }\n",
       "\n",
       "    .dataframe tbody tr th {\n",
       "        vertical-align: top;\n",
       "    }\n",
       "\n",
       "    .dataframe thead th {\n",
       "        text-align: right;\n",
       "    }\n",
       "</style>\n",
       "<table border=\"1\" class=\"dataframe\">\n",
       "  <thead>\n",
       "    <tr style=\"text-align: right;\">\n",
       "      <th></th>\n",
       "      <th>BCN</th>\n",
       "      <th>mean_similarity_with_another_branch</th>\n",
       "    </tr>\n",
       "  </thead>\n",
       "  <tbody>\n",
       "    <tr>\n",
       "      <th>0</th>\n",
       "      <td>010726883</td>\n",
       "      <td>0.5009</td>\n",
       "    </tr>\n",
       "    <tr>\n",
       "      <th>1</th>\n",
       "      <td>007436605</td>\n",
       "      <td>0.5006</td>\n",
       "    </tr>\n",
       "    <tr>\n",
       "      <th>2</th>\n",
       "      <td>097348114</td>\n",
       "      <td>0.4995</td>\n",
       "    </tr>\n",
       "    <tr>\n",
       "      <th>3</th>\n",
       "      <td>060273687</td>\n",
       "      <td>0.4989</td>\n",
       "    </tr>\n",
       "    <tr>\n",
       "      <th>4</th>\n",
       "      <td>066780667</td>\n",
       "      <td>0.4982</td>\n",
       "    </tr>\n",
       "    <tr>\n",
       "      <th>...</th>\n",
       "      <td>...</td>\n",
       "      <td>...</td>\n",
       "    </tr>\n",
       "    <tr>\n",
       "      <th>8996</th>\n",
       "      <td>188414197</td>\n",
       "      <td>0.3305</td>\n",
       "    </tr>\n",
       "    <tr>\n",
       "      <th>8997</th>\n",
       "      <td>838833069</td>\n",
       "      <td>0.3305</td>\n",
       "    </tr>\n",
       "    <tr>\n",
       "      <th>8998</th>\n",
       "      <td>122035918</td>\n",
       "      <td>0.3305</td>\n",
       "    </tr>\n",
       "    <tr>\n",
       "      <th>8999</th>\n",
       "      <td>071906432</td>\n",
       "      <td>0.3305</td>\n",
       "    </tr>\n",
       "    <tr>\n",
       "      <th>9000</th>\n",
       "      <td>001006360</td>\n",
       "      <td>0.3305</td>\n",
       "    </tr>\n",
       "  </tbody>\n",
       "</table>\n",
       "<p>9001 rows × 2 columns</p>\n",
       "</div>"
      ],
      "text/plain": [
       "            BCN  mean_similarity_with_another_branch\n",
       "0     010726883                               0.5009\n",
       "1     007436605                               0.5006\n",
       "2     097348114                               0.4995\n",
       "3     060273687                               0.4989\n",
       "4     066780667                               0.4982\n",
       "...         ...                                  ...\n",
       "8996  188414197                               0.3305\n",
       "8997  838833069                               0.3305\n",
       "8998  122035918                               0.3305\n",
       "8999  071906432                               0.3305\n",
       "9000  001006360                               0.3305\n",
       "\n",
       "[9001 rows x 2 columns]"
      ]
     },
     "execution_count": 40,
     "metadata": {},
     "output_type": "execute_result"
    }
   ],
   "source": [
    "am_to_as_good_candidates"
   ]
  },
  {
   "cell_type": "markdown",
   "metadata": {},
   "source": [
    "#### "
   ]
  }
 ],
 "metadata": {
  "kernelspec": {
   "display_name": "Python 3 (ipykernel)",
   "language": "python",
   "name": "python3"
  },
  "language_info": {
   "codemirror_mode": {
    "name": "ipython",
    "version": 3
   },
   "file_extension": ".py",
   "mimetype": "text/x-python",
   "name": "python",
   "nbconvert_exporter": "python",
   "pygments_lexer": "ipython3",
   "version": "3.9.12"
  }
 },
 "nbformat": 4,
 "nbformat_minor": 4
}
